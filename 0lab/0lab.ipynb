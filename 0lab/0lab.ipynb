{
 "cells": [
  {
   "cell_type": "code",
   "execution_count": 3,
   "metadata": {},
   "outputs": [],
   "source": [
    "#import labs for working\n",
    "\n",
    "import random\n",
    "from collections import Counter\n",
    "import json\n",
    "import matplotlib.pyplot as plt\n",
    "import numpy as np\n",
    "import math\n",
    "import pandas as pd"
   ]
  },
  {
   "cell_type": "code",
   "execution_count": 4,
   "metadata": {},
   "outputs": [],
   "source": [
    "#Len of mass\n",
    "N = 100\n",
    "\n",
    "N_population = 1000"
   ]
  },
  {
   "cell_type": "code",
   "execution_count": 5,
   "metadata": {},
   "outputs": [],
   "source": [
    "def generate_list_of_values(count_of_elements: int) -> list[float]:\n",
    "    \"Generate subsequence to list\"\n",
    "    list_of_values: list = [round(random.random(), 3) \\\n",
    "                            for i in range(count_of_elements)]\n",
    "    return list_of_values"
   ]
  },
  {
   "cell_type": "code",
   "execution_count": 6,
   "metadata": {},
   "outputs": [],
   "source": [
    "def make_collection_of_values(list_of_values: list[float]) -> Counter[float]:\n",
    "    \"Discrete distribution function (frequency polygon)\"\n",
    "    return Counter(list_of_values)"
   ]
  },
  {
   "cell_type": "code",
   "execution_count": 7,
   "metadata": {},
   "outputs": [],
   "source": [
    "def beautiful_print_of_discrate_population(collections_of_values: dict) -> None:\n",
    "    \"Print Discrete distribution function (frequency polygon)\"\n",
    "    print('{:<13} {}'.format('Value', 'Count'))\n",
    "    [print(values, \" \", collections_of_values[values]) \\\n",
    "     for values in collections_of_values]\n",
    "\n",
    "# beautiful_print_of_discrate_population(collections_of_values)"
   ]
  },
  {
   "cell_type": "code",
   "execution_count": 21,
   "metadata": {},
   "outputs": [
    {
     "data": {
      "image/png": "[encoded data removed]",
      "text/plain": [
       "<Figure size 640x480 with 1 Axes>"
      ]
     },
     "metadata": {},
     "output_type": "display_data"
    }
   ],
   "source": [
    "def plotting_discrate_population(collections_of_values: dict) -> None:\n",
    "    'Visualisation of population'\n",
    "\n",
    "    plt.bar(list(collections_of_values.keys()), \\\n",
    "            list(collections_of_values.values()), width=0.005, color='g')\n",
    "    plt.show()\n",
    "\n"
   ]
  },
  {
   "cell_type": "code",
   "execution_count": 9,
   "metadata": {},
   "outputs": [],
   "source": [
    "def create_p_i(N: int, collections_of_values: dict):\n",
    "    values_of_n_i = list(collections_of_values.values())\n",
    "    P_i = [i / N for i in values_of_n_i]\n",
    "    return P_i\n",
    "\n",
    "\n",
    "\n",
    "\n"
   ]
  },
  {
   "cell_type": "code",
   "execution_count": 10,
   "metadata": {},
   "outputs": [],
   "source": [
    "def create_n_i_hatch(P_i: list, N: int):\n",
    "    n_i_hatch = [x * N for x in P_i]\n",
    "    return n_i_hatch\n",
    "\n",
    "\n"
   ]
  },
  {
   "cell_type": "code",
   "execution_count": 11,
   "metadata": {},
   "outputs": [],
   "source": [
    "def n_i_minus_n_i_hatch(collections_of_values: dict, n_i_hatch: list):\n",
    "    values_of_n_i = list(collections_of_values.values())\n",
    "    munes = [x - y for x, y in zip(values_of_n_i, n_i_hatch)]\n",
    "    return munes\n",
    "\n",
    "\n",
    "\n"
   ]
  },
  {
   "cell_type": "code",
   "execution_count": 12,
   "metadata": {},
   "outputs": [],
   "source": [
    "def sqrt_minus(minus: list):\n",
    "    sqrt_minus = [i * i for i in minus]\n",
    "    return sqrt_minus\n",
    "\n",
    "\n"
   ]
  },
  {
   "cell_type": "code",
   "execution_count": 13,
   "metadata": {},
   "outputs": [],
   "source": [
    "def sqrt_div_n_i_hatch(sqrt_: list, n_i_hatch: list):\n",
    "    result = [x / y for x, y in zip(sqrt_, n_i_hatch)]\n",
    "    return result"
   ]
  },
  {
   "cell_type": "code",
   "execution_count": 14,
   "metadata": {},
   "outputs": [],
   "source": [
    "# sum_of_result = sum(result)"
   ]
  },
  {
   "cell_type": "code",
   "execution_count": 15,
   "metadata": {},
   "outputs": [],
   "source": [
    "def create_all_values(N_population: int, N: int):\n",
    "    list_of_values: list = []\n",
    "    for i in range(N_population):\n",
    "        list_of_values_iter = generate_list_of_values(N)\n",
    "        list_of_values.extend(list_of_values_iter)\n",
    "    return list_of_values\n",
    "\n"
   ]
  },
  {
   "cell_type": "code",
   "execution_count": 16,
   "metadata": {},
   "outputs": [
    {
     "data": {
      "image/png": "[encoded data removed]",
      "text/plain": [
       "<Figure size 640x480 with 1 Axes>"
      ]
     },
     "metadata": {},
     "output_type": "display_data"
    }
   ],
   "source": [
    "list_of_values = create_all_values(N_population, N)\n",
    "collections_of_values = make_collection_of_values(list_of_values)\n",
    "plotting_discrate_population(dict(collections_of_values))\n",
    "P_i = create_p_i(N, collections_of_values)\n",
    "n_i_hatch = create_n_i_hatch(P_i, N * N_population) \n",
    "minus = n_i_minus_n_i_hatch(collections_of_values, n_i_hatch)\n",
    "sqrt_ = sqrt_minus(minus)\n",
    "result = sqrt_div_n_i_hatch(sqrt_, n_i_hatch)\n",
    "sum_of_result = sum(result)"
   ]
  },
  {
   "cell_type": "code",
   "execution_count": 17,
   "metadata": {},
   "outputs": [
    {
     "data": {
      "text/html": [
       "<div>\n",
       "<style scoped>\n",
       "    .dataframe tbody tr th:only-of-type {\n",
       "        vertical-align: middle;\n",
       "    }\n",
       "\n",
       "    .dataframe tbody tr th {\n",
       "        vertical-align: top;\n",
       "    }\n",
       "\n",
       "    .dataframe thead th {\n",
       "        text-align: right;\n",
       "    }\n",
       "</style>\n",
       "<table border=\"1\" class=\"dataframe\">\n",
       "  <thead>\n",
       "    <tr style=\"text-align: right;\">\n",
       "      <th></th>\n",
       "      <th>n_i</th>\n",
       "      <th>value</th>\n",
       "      <th>P_i</th>\n",
       "      <th>n_i_hatch</th>\n",
       "      <th>n_i - n_i_hatch</th>\n",
       "      <th>sqrt</th>\n",
       "      <th>sqrt/n_i_hatch</th>\n",
       "      <th>X^2_obs</th>\n",
       "    </tr>\n",
       "  </thead>\n",
       "  <tbody>\n",
       "    <tr>\n",
       "      <th>0</th>\n",
       "      <td>99</td>\n",
       "      <td>0.388</td>\n",
       "      <td>0.99</td>\n",
       "      <td>99000.0</td>\n",
       "      <td>-98901.0</td>\n",
       "      <td>9.781408e+09</td>\n",
       "      <td>98802.099</td>\n",
       "      <td>99800100.0</td>\n",
       "    </tr>\n",
       "    <tr>\n",
       "      <th>1</th>\n",
       "      <td>98</td>\n",
       "      <td>0.930</td>\n",
       "      <td>0.98</td>\n",
       "      <td>98000.0</td>\n",
       "      <td>-97902.0</td>\n",
       "      <td>9.584802e+09</td>\n",
       "      <td>97804.098</td>\n",
       "      <td>NaN</td>\n",
       "    </tr>\n",
       "    <tr>\n",
       "      <th>2</th>\n",
       "      <td>110</td>\n",
       "      <td>0.440</td>\n",
       "      <td>1.10</td>\n",
       "      <td>110000.0</td>\n",
       "      <td>-109890.0</td>\n",
       "      <td>1.207581e+10</td>\n",
       "      <td>109780.110</td>\n",
       "      <td>NaN</td>\n",
       "    </tr>\n",
       "    <tr>\n",
       "      <th>3</th>\n",
       "      <td>97</td>\n",
       "      <td>0.267</td>\n",
       "      <td>0.97</td>\n",
       "      <td>97000.0</td>\n",
       "      <td>-96903.0</td>\n",
       "      <td>9.390191e+09</td>\n",
       "      <td>96806.097</td>\n",
       "      <td>NaN</td>\n",
       "    </tr>\n",
       "    <tr>\n",
       "      <th>4</th>\n",
       "      <td>98</td>\n",
       "      <td>0.355</td>\n",
       "      <td>0.98</td>\n",
       "      <td>98000.0</td>\n",
       "      <td>-97902.0</td>\n",
       "      <td>9.584802e+09</td>\n",
       "      <td>97804.098</td>\n",
       "      <td>NaN</td>\n",
       "    </tr>\n",
       "    <tr>\n",
       "      <th>...</th>\n",
       "      <td>...</td>\n",
       "      <td>...</td>\n",
       "      <td>...</td>\n",
       "      <td>...</td>\n",
       "      <td>...</td>\n",
       "      <td>...</td>\n",
       "      <td>...</td>\n",
       "      <td>...</td>\n",
       "    </tr>\n",
       "    <tr>\n",
       "      <th>996</th>\n",
       "      <td>103</td>\n",
       "      <td>0.400</td>\n",
       "      <td>1.03</td>\n",
       "      <td>103000.0</td>\n",
       "      <td>-102897.0</td>\n",
       "      <td>1.058779e+10</td>\n",
       "      <td>102794.103</td>\n",
       "      <td>NaN</td>\n",
       "    </tr>\n",
       "    <tr>\n",
       "      <th>997</th>\n",
       "      <td>109</td>\n",
       "      <td>0.872</td>\n",
       "      <td>1.09</td>\n",
       "      <td>109000.0</td>\n",
       "      <td>-108891.0</td>\n",
       "      <td>1.185725e+10</td>\n",
       "      <td>108782.109</td>\n",
       "      <td>NaN</td>\n",
       "    </tr>\n",
       "    <tr>\n",
       "      <th>998</th>\n",
       "      <td>113</td>\n",
       "      <td>0.263</td>\n",
       "      <td>1.13</td>\n",
       "      <td>113000.0</td>\n",
       "      <td>-112887.0</td>\n",
       "      <td>1.274347e+10</td>\n",
       "      <td>112774.113</td>\n",
       "      <td>NaN</td>\n",
       "    </tr>\n",
       "    <tr>\n",
       "      <th>999</th>\n",
       "      <td>105</td>\n",
       "      <td>0.047</td>\n",
       "      <td>1.05</td>\n",
       "      <td>105000.0</td>\n",
       "      <td>-104895.0</td>\n",
       "      <td>1.100296e+10</td>\n",
       "      <td>104790.105</td>\n",
       "      <td>NaN</td>\n",
       "    </tr>\n",
       "    <tr>\n",
       "      <th>1000</th>\n",
       "      <td>88</td>\n",
       "      <td>0.622</td>\n",
       "      <td>0.88</td>\n",
       "      <td>88000.0</td>\n",
       "      <td>-87912.0</td>\n",
       "      <td>7.728520e+09</td>\n",
       "      <td>87824.088</td>\n",
       "      <td>NaN</td>\n",
       "    </tr>\n",
       "  </tbody>\n",
       "</table>\n",
       "<p>1001 rows × 8 columns</p>\n",
       "</div>"
      ],
      "text/plain": [
       "      n_i  value   P_i  n_i_hatch  n_i - n_i_hatch          sqrt  \\\n",
       "0      99  0.388  0.99    99000.0         -98901.0  9.781408e+09   \n",
       "1      98  0.930  0.98    98000.0         -97902.0  9.584802e+09   \n",
       "2     110  0.440  1.10   110000.0        -109890.0  1.207581e+10   \n",
       "3      97  0.267  0.97    97000.0         -96903.0  9.390191e+09   \n",
       "4      98  0.355  0.98    98000.0         -97902.0  9.584802e+09   \n",
       "...   ...    ...   ...        ...              ...           ...   \n",
       "996   103  0.400  1.03   103000.0        -102897.0  1.058779e+10   \n",
       "997   109  0.872  1.09   109000.0        -108891.0  1.185725e+10   \n",
       "998   113  0.263  1.13   113000.0        -112887.0  1.274347e+10   \n",
       "999   105  0.047  1.05   105000.0        -104895.0  1.100296e+10   \n",
       "1000   88  0.622  0.88    88000.0         -87912.0  7.728520e+09   \n",
       "\n",
       "      sqrt/n_i_hatch     X^2_obs  \n",
       "0          98802.099  99800100.0  \n",
       "1          97804.098         NaN  \n",
       "2         109780.110         NaN  \n",
       "3          96806.097         NaN  \n",
       "4          97804.098         NaN  \n",
       "...              ...         ...  \n",
       "996       102794.103         NaN  \n",
       "997       108782.109         NaN  \n",
       "998       112774.113         NaN  \n",
       "999       104790.105         NaN  \n",
       "1000       87824.088         NaN  \n",
       "\n",
       "[1001 rows x 8 columns]"
      ]
     },
     "execution_count": 17,
     "metadata": {},
     "output_type": "execute_result"
    }
   ],
   "source": [
    "data = {\n",
    "        'n_i'             : pd.Series(collections_of_values.values()),\n",
    "        'value'           : pd.Series(collections_of_values.keys()),\n",
    "        'P_i'             : pd.Series(P_i),\n",
    "        'n_i_hatch'       : pd.Series(n_i_hatch),\n",
    "        'n_i - n_i_hatch' : pd.Series(minus),\n",
    "        'sqrt'            : pd.Series(sqrt_),\n",
    "        'sqrt/n_i_hatch'  : pd.Series(result),\n",
    "        'X^2_obs'         : pd.Series(sum_of_result)\n",
    "        }\n",
    "df = pd.DataFrame(data)\n",
    "df"
   ]
  },
  {
   "cell_type": "code",
   "execution_count": 18,
   "metadata": {},
   "outputs": [],
   "source": [
    "# def calculated_interval_of_population(collections_of_values: dict, N: int) -> float:\n",
    "#     'Calculate step and count of intervals in population'\n",
    "#     x_max = max(collections_of_values.keys())\n",
    "#     x_min = min(collections_of_values.keys())\n",
    "\n",
    "#     print(x_min, x_max)\n",
    "\n",
    "#     k = (math.log10(N) * 3.322) + 1\n",
    "#     print (round(k))\n",
    "\n",
    "#     if k > 15:\n",
    "#         k = 15\n",
    "#     elif k < 5:\n",
    "#         k = 5\n",
    "\n",
    "#     h = (x_max - x_min)/k  \n",
    "\n",
    "#     return round(k)\n",
    "\n",
    "# interval = calculated_interval_of_population(collections_of_values, N)"
   ]
  },
  {
   "cell_type": "code",
   "execution_count": 19,
   "metadata": {},
   "outputs": [],
   "source": [
    "# def make_intervals_population(list_of_values: list, interval: int):\n",
    "#     'counting values in an interval'\n",
    "#     s = pd.Series(list_of_values)\n",
    "#     # s = s.groupby(pd.cut(s, bins = interval), observed= True)\\\n",
    "#     #           .apply(lambda x: x.to_list())\n",
    "#     s = pd.cut(s, bins=interval, right=False).value_counts()\n",
    "#     print(s)\n",
    "#     print(type(s))\n",
    "    "
   ]
  },
  {
   "cell_type": "code",
   "execution_count": 20,
   "metadata": {},
   "outputs": [],
   "source": [
    "# make_intervals_population(list_of_values, int(interval))"
   ]
  }
 ],
 "metadata": {
  "kernelspec": {
   "display_name": "Python 3.11.1 64-bit",
   "language": "python",
   "name": "python3"
  },
  "language_info": {
   "codemirror_mode": {
    "name": "ipython",
    "version": 3
   },
   "file_extension": ".py",
   "mimetype": "text/x-python",
   "name": "python",
   "nbconvert_exporter": "python",
   "pygments_lexer": "ipython3",
   "version": "3.11.1"
  },
  "orig_nbformat": 4,
  "vscode": {
   "interpreter": {
    "hash": "54be5dcaef3355b8195a69b65ef5b9c5e7ba5f5a12795eca27b7fa46b0f134bb"
   }
  }
 },
 "nbformat": 4,
 "nbformat_minor": 2
}
